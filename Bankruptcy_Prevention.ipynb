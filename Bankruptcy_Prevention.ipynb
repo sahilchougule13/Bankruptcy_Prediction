{
 "cells": [
  {
   "cell_type": "markdown",
   "id": "80b0e600",
   "metadata": {},
   "source": [
    "# 1. LOAD DATA"
   ]
  },
  {
   "cell_type": "markdown",
   "id": "1c5c61aa",
   "metadata": {},
   "source": [
    "# 1.1 Loading important libraries"
   ]
  },
  {
   "cell_type": "code",
   "execution_count": null,
   "id": "9d29497e",
   "metadata": {},
   "outputs": [],
   "source": [
    "import pandas as pd\n",
    "import numpy as np\n",
    "import matplotlib.pyplot as plt\n",
    "import seaborn as sns\n",
    "import warnings\n",
    "warnings.filterwarnings('ignore')"
   ]
  },
  {
   "cell_type": "markdown",
   "id": "013da2b5",
   "metadata": {},
   "source": [
    "# 1.2 Importing the Dataset"
   ]
  },
  {
   "cell_type": "code",
   "execution_count": null,
   "id": "a73696bf",
   "metadata": {},
   "outputs": [],
   "source": [
    "Bankrupt=pd.read_csv(\"bankruptcy-prevention.csv\",sep=\";\")"
   ]
  },
  {
   "cell_type": "code",
   "execution_count": null,
   "id": "d35bbef7",
   "metadata": {},
   "outputs": [],
   "source": [
    "Bankrupt"
   ]
  },
  {
   "cell_type": "code",
   "execution_count": null,
   "id": "733ee94d",
   "metadata": {},
   "outputs": [],
   "source": [
    "Bankrupt.head()"
   ]
  },
  {
   "cell_type": "code",
   "execution_count": null,
   "id": "d355ec6b",
   "metadata": {},
   "outputs": [],
   "source": [
    "Bankrupt.tail()"
   ]
  },
  {
   "cell_type": "markdown",
   "id": "64e804a9",
   "metadata": {},
   "source": [
    "# 2. EXPLORATORY DATA ANALYSIS"
   ]
  },
  {
   "cell_type": "markdown",
   "id": "5b7abe0f",
   "metadata": {},
   "source": [
    "### 2.1 Understanding dataset"
   ]
  },
  {
   "cell_type": "code",
   "execution_count": null,
   "id": "da9d7098",
   "metadata": {},
   "outputs": [],
   "source": [
    "Bankrupt.info()"
   ]
  },
  {
   "cell_type": "code",
   "execution_count": null,
   "id": "2522e2e2",
   "metadata": {},
   "outputs": [],
   "source": [
    "Bankrupt.shape"
   ]
  },
  {
   "cell_type": "code",
   "execution_count": null,
   "id": "0ce96f9f",
   "metadata": {},
   "outputs": [],
   "source": [
    "Bankrupt.isnull().sum()"
   ]
  },
  {
   "cell_type": "markdown",
   "id": "0532986a",
   "metadata": {},
   "source": [
    "Obeservations:- There is no null value in the data"
   ]
  },
  {
   "cell_type": "code",
   "execution_count": null,
   "id": "9878942a",
   "metadata": {},
   "outputs": [],
   "source": [
    "Bankrupt.count()"
   ]
  },
  {
   "cell_type": "code",
   "execution_count": null,
   "id": "b0d58bd7",
   "metadata": {},
   "outputs": [],
   "source": [
    "Bankrupt.describe()"
   ]
  },
  {
   "cell_type": "code",
   "execution_count": null,
   "id": "b212d90c",
   "metadata": {},
   "outputs": [],
   "source": [
    "#Count of duplicated rows\n",
    "Bankrupt[Bankrupt.duplicated()].shape"
   ]
  },
  {
   "cell_type": "markdown",
   "id": "d36acbe0",
   "metadata": {},
   "source": [
    "Obeservation:- There is 147 duplicate value in the dataset."
   ]
  },
  {
   "cell_type": "code",
   "execution_count": null,
   "id": "43644dd9",
   "metadata": {},
   "outputs": [],
   "source": [
    "#Count of duplicated rows\n",
    "Bankrupt[Bankrupt.duplicated()]"
   ]
  },
  {
   "cell_type": "code",
   "execution_count": null,
   "id": "2d3ab862",
   "metadata": {},
   "outputs": [],
   "source": [
    "bankrupt1=Bankrupt.drop_duplicates()"
   ]
  },
  {
   "cell_type": "code",
   "execution_count": null,
   "id": "4b29e330",
   "metadata": {},
   "outputs": [],
   "source": [
    "Bankrupt[' class'].unique()"
   ]
  },
  {
   "cell_type": "code",
   "execution_count": null,
   "id": "8f0a0dde",
   "metadata": {},
   "outputs": [],
   "source": [
    "Bankrupt[' class'].value_counts()"
   ]
  },
  {
   "cell_type": "code",
   "execution_count": null,
   "id": "24ed845a",
   "metadata": {},
   "outputs": [],
   "source": [
    "plt.figure(figsize=(5,5))\n",
    "sns.countplot(x=Bankrupt[' class'], palette='turbo', linewidth=1)\n",
    "plt.show()"
   ]
  },
  {
   "cell_type": "code",
   "execution_count": null,
   "id": "0da3bf02",
   "metadata": {},
   "outputs": [],
   "source": [
    "Bankrupt['industrial_risk'].value_counts()"
   ]
  },
  {
   "cell_type": "code",
   "execution_count": null,
   "id": "e2f82ac6",
   "metadata": {},
   "outputs": [],
   "source": [
    "Bankrupt[' management_risk'].value_counts()"
   ]
  },
  {
   "cell_type": "code",
   "execution_count": null,
   "id": "ec9ea09d",
   "metadata": {},
   "outputs": [],
   "source": [
    "Bankrupt[' financial_flexibility'].value_counts()"
   ]
  },
  {
   "cell_type": "code",
   "execution_count": null,
   "id": "386fd750",
   "metadata": {},
   "outputs": [],
   "source": [
    "Bankrupt[' credibility'].value_counts()"
   ]
  },
  {
   "cell_type": "code",
   "execution_count": null,
   "id": "b1c25ee5",
   "metadata": {},
   "outputs": [],
   "source": [
    "Bankrupt[' competitiveness'].value_counts()"
   ]
  },
  {
   "cell_type": "code",
   "execution_count": null,
   "id": "3761c881",
   "metadata": {},
   "outputs": [],
   "source": [
    "Bankrupt[' operating_risk'].value_counts()"
   ]
  },
  {
   "cell_type": "code",
   "execution_count": null,
   "id": "5da84d1d",
   "metadata": {},
   "outputs": [],
   "source": [
    "plt.figure(figsize=(15, 12))\n",
    "for i, predictor in enumerate(Bankrupt.drop(columns = [' class'])):\n",
    "    ax = plt.subplot(3, 2, i + 1)\n",
    "    sns.countplot(data=Bankrupt, x=predictor, hue=' class')"
   ]
  },
  {
   "cell_type": "markdown",
   "id": "720b6ea8",
   "metadata": {},
   "source": [
    "# Transformations"
   ]
  },
  {
   "cell_type": "markdown",
   "id": "a02450c6",
   "metadata": {},
   "source": [
    "#### Here are we taking a bankruptcy = 0 and Non-bankruptcy=1 by encoding data"
   ]
  },
  {
   "cell_type": "code",
   "execution_count": null,
   "id": "ae7fa467",
   "metadata": {},
   "outputs": [],
   "source": [
    "from sklearn.preprocessing import LabelEncoder\n",
    "encode = LabelEncoder()\n",
    "Bankrupt[' class'] = encode.fit_transform(Bankrupt[' class'])\n",
    "Bankrupt"
   ]
  },
  {
   "cell_type": "markdown",
   "id": "3fa743d3",
   "metadata": {},
   "source": [
    "# 3. EDA AND VISUALIZATION"
   ]
  },
  {
   "cell_type": "markdown",
   "id": "36b730c7",
   "metadata": {},
   "source": [
    "### 3.1 Correlation"
   ]
  },
  {
   "cell_type": "code",
   "execution_count": null,
   "id": "2cc6b12f",
   "metadata": {},
   "outputs": [],
   "source": [
    "correlations = Bankrupt.corr()\n",
    "correlations"
   ]
  },
  {
   "cell_type": "code",
   "execution_count": null,
   "id": "9ebba60e",
   "metadata": {},
   "outputs": [],
   "source": [
    "sns.heatmap(correlations,xticklabels=correlations.columns, yticklabels=correlations.columns,annot=True)"
   ]
  },
  {
   "cell_type": "markdown",
   "id": "ad767c36",
   "metadata": {},
   "source": [
    "### 3.2 Histogram"
   ]
  },
  {
   "cell_type": "code",
   "execution_count": null,
   "id": "25e16904",
   "metadata": {},
   "outputs": [],
   "source": [
    "Bankrupt.hist(figsize=(12, 8),bins=20)\n",
    "plt.show()"
   ]
  },
  {
   "cell_type": "markdown",
   "id": "681f28d2",
   "metadata": {},
   "source": [
    "###  3.2Scatterplot Matrix"
   ]
  },
  {
   "cell_type": "code",
   "execution_count": null,
   "id": "0b804153",
   "metadata": {},
   "outputs": [],
   "source": [
    "sns.pairplot(Bankrupt)"
   ]
  },
  {
   "cell_type": "markdown",
   "id": "7c0c6e50",
   "metadata": {},
   "source": [
    "###  3.3 Pie chart"
   ]
  },
  {
   "cell_type": "code",
   "execution_count": null,
   "id": "19a33695",
   "metadata": {},
   "outputs": [],
   "source": [
    "a =Bankrupt[' class'].value_counts()[0]     \n",
    "b =Bankrupt[' class'].value_counts()[1]     \n",
    "\n",
    "\n",
    "fig1, ax1 = plt.subplots(figsize=(8, 6))\n",
    "label = ['bankruptcy', 'non-bankruptcy']\n",
    "count = [a, b]\n",
    "colors = ['red', 'yellowgreen']\n",
    "explode = (0, 0.1)  # explode 2nd slice\n",
    "plt.pie(count, labels=label, autopct='%0.2f%%', explode=explode, colors=colors,shadow=True, startangle=90)\n",
    "plt.show()"
   ]
  },
  {
   "cell_type": "markdown",
   "id": "a060c758",
   "metadata": {},
   "source": [
    "### 3.4 Boxplot"
   ]
  },
  {
   "cell_type": "code",
   "execution_count": null,
   "id": "f922cbbf",
   "metadata": {},
   "outputs": [],
   "source": [
    "Bankrupt.plot(kind='box', subplots=True, layout=(4,4), figsize=(12,10))\n",
    "plt.show()"
   ]
  },
  {
   "cell_type": "markdown",
   "id": "0100c9bd",
   "metadata": {},
   "source": [
    "###  3.5  Density Plot"
   ]
  },
  {
   "cell_type": "code",
   "execution_count": null,
   "id": "60fd1710",
   "metadata": {},
   "outputs": [],
   "source": [
    "from pandas import read_csv\n",
    "\n",
    "Bankrupt.plot(kind='density', subplots=True, layout=(4,4), sharex=False, figsize=(12,10))\n",
    "plt.show()"
   ]
  },
  {
   "cell_type": "markdown",
   "id": "66147544",
   "metadata": {},
   "source": [
    "# 4.Spliting dataset into X and y"
   ]
  },
  {
   "cell_type": "code",
   "execution_count": null,
   "id": "b617a05a",
   "metadata": {},
   "outputs": [],
   "source": [
    "# Input\n",
    "x = Bankrupt.iloc[:,:-1]\n",
    "\n",
    "# Target variable\n",
    "\n",
    "y = Bankrupt.iloc[:,-1]"
   ]
  },
  {
   "cell_type": "code",
   "execution_count": null,
   "id": "b67b746e",
   "metadata": {},
   "outputs": [],
   "source": [
    "from sklearn.model_selection import train_test_split # trian and test\n",
    "from sklearn import metrics\n",
    "from sklearn import preprocessing \n",
    "from sklearn.metrics import classification_report,confusion_matrix\n",
    "from sklearn.metrics import accuracy_score, recall_score, precision_score, f1_score"
   ]
  },
  {
   "cell_type": "code",
   "execution_count": null,
   "id": "180298b1",
   "metadata": {},
   "outputs": [],
   "source": [
    "x_train, x_test, y_train, y_test = train_test_split(x,y, test_size = 0.25, random_state = 0)"
   ]
  },
  {
   "cell_type": "markdown",
   "id": "721e2c09",
   "metadata": {},
   "source": [
    "# 5. MODEL BUILDING"
   ]
  },
  {
   "cell_type": "markdown",
   "id": "d9f7ac68",
   "metadata": {},
   "source": [
    "### Table of Contents"
   ]
  },
  {
   "cell_type": "code",
   "execution_count": null,
   "id": "26e0b2f0",
   "metadata": {},
   "outputs": [],
   "source": [
    "def Visualize_confusion_matrix(y_test, y_pred):\n",
    "    cm = confusion_matrix(y_test, y_pred)\n",
    "    plt.figure(figsize=(7, 5))\n",
    "    sns.heatmap(cm, annot=True, fmt='g', cmap='Oranges',\n",
    "                xticklabels=['No Bankruptcy','Bankruptcy'], yticklabels=['No Bankruptcy','Bankruptcy'])\n",
    "    plt.title('Accuracy: {0:.4f}'.format(accuracy_score(y_test, y_pred)))\n",
    "    plt.ylabel('True Values')\n",
    "    plt.xlabel('Predicted Values')\n",
    "    plt.show()\n",
    "    \n",
    "    print(\"\\n\")\n",
    "    print(\"Classification Report:\")\n",
    "    print(classification_report(y_test, y_pred))\n",
    "    return"
   ]
  },
  {
   "cell_type": "markdown",
   "id": "4ace7efe",
   "metadata": {},
   "source": [
    "### 5.1 Logistic Regression"
   ]
  },
  {
   "cell_type": "markdown",
   "id": "7abe676a",
   "metadata": {},
   "source": [
    "#### Training the Logistic Regression on the Training set"
   ]
  },
  {
   "cell_type": "code",
   "execution_count": null,
   "id": "d9728479",
   "metadata": {},
   "outputs": [],
   "source": [
    "from sklearn.linear_model import LogisticRegression\n",
    "LR_model = LogisticRegression(random_state = 0)\n",
    "LR_model.fit(x_train, y_train)\n",
    "y_pred = LR_model.predict(x_test)\n",
    "acc1 = accuracy_score(y_test, y_pred)"
   ]
  },
  {
   "cell_type": "code",
   "execution_count": null,
   "id": "8a2f5ed4",
   "metadata": {},
   "outputs": [],
   "source": [
    "# Train Score\n",
    "train_score = LR_model.score(x_train, y_train)\n",
    "print('Training Score: %0.4f'% train_score)"
   ]
  },
  {
   "cell_type": "markdown",
   "id": "a68f0910",
   "metadata": {},
   "source": [
    "#### Testing the Logistic Regression on the Testing set"
   ]
  },
  {
   "cell_type": "code",
   "execution_count": null,
   "id": "ce939e65",
   "metadata": {},
   "outputs": [],
   "source": [
    "# Test score\n",
    "f1_LR = f1_score(y_test, y_pred)\n",
    "precision_LR = precision_score(y_test, y_pred)\n",
    "recall_LR = recall_score(y_test, y_pred)\n",
    "Accuracy_LR=accuracy_score(y_test, y_pred)\n",
    "print('Recall score: %0.4f'% recall_LR)\n",
    "print('Precision score: %0.4f'% precision_LR)\n",
    "print('F1-Score: %0.4f'% f1_LR)\n",
    "print('Accuracy score: %0.4f'% Accuracy_LR)"
   ]
  },
  {
   "cell_type": "code",
   "execution_count": null,
   "id": "8f8f80fb",
   "metadata": {},
   "outputs": [],
   "source": [
    "# Test Predictions\n",
    "Visualize_confusion_matrix(y_test, y_pred)"
   ]
  },
  {
   "cell_type": "markdown",
   "id": "0d2ec1d7",
   "metadata": {},
   "source": [
    "### 5.2 Naive Bayes"
   ]
  },
  {
   "cell_type": "markdown",
   "id": "f2e989ad",
   "metadata": {},
   "source": [
    "#### Training the Naive Bayes on the Training set"
   ]
  },
  {
   "cell_type": "code",
   "execution_count": null,
   "id": "8a062cf3",
   "metadata": {},
   "outputs": [],
   "source": [
    "from sklearn.naive_bayes import GaussianNB\n",
    "NB_model = GaussianNB()\n",
    "NB_model.fit(x_train, y_train)\n",
    "y_pred = NB_model.predict(x_test)\n",
    "acc2 = accuracy_score(y_test, y_pred)"
   ]
  },
  {
   "cell_type": "code",
   "execution_count": null,
   "id": "d0dc93c1",
   "metadata": {},
   "outputs": [],
   "source": [
    "# Train Score\n",
    "train_score = NB_model.score(x_train, y_train)\n",
    "print('Training Score: %0.4f'% train_score)"
   ]
  },
  {
   "cell_type": "markdown",
   "id": "954520b2",
   "metadata": {},
   "source": [
    "#### Testing the Naive Bayes on the Testing set"
   ]
  },
  {
   "cell_type": "code",
   "execution_count": null,
   "id": "bbfc076e",
   "metadata": {},
   "outputs": [],
   "source": [
    "# Test score\n",
    "f1_NB = f1_score(y_test, y_pred)\n",
    "precision_NB = precision_score(y_test, y_pred)\n",
    "recall_NB = recall_score(y_test, y_pred)\n",
    "Accuracy_NB=accuracy_score(y_test, y_pred)\n",
    "print('Recall score: %0.4f'% recall_NB)\n",
    "print('Precision score: %0.4f'% precision_NB)\n",
    "print('F1-Score: %0.4f'% f1_NB)\n",
    "print('Accuracy score: %0.4f'% Accuracy_NB)"
   ]
  },
  {
   "cell_type": "code",
   "execution_count": null,
   "id": "07e14f90",
   "metadata": {},
   "outputs": [],
   "source": [
    "# Test Predictions\n",
    "Visualize_confusion_matrix(y_test, y_pred)"
   ]
  },
  {
   "cell_type": "markdown",
   "id": "7bc5b6ac",
   "metadata": {},
   "source": [
    "### 5.3 KNN"
   ]
  },
  {
   "cell_type": "markdown",
   "id": "8898ae8e",
   "metadata": {},
   "source": [
    "#### Training the K-NN model on the Training set"
   ]
  },
  {
   "cell_type": "code",
   "execution_count": null,
   "id": "989b2acf",
   "metadata": {},
   "outputs": [],
   "source": [
    "from sklearn.neighbors import KNeighborsClassifier\n",
    "KNN_model = KNeighborsClassifier(n_neighbors = 5, metric = 'minkowski', p = 2)\n",
    "KNN_model.fit(x_train, y_train)\n",
    "y_pred = KNN_model.predict(x_test)\n",
    "acc3 = accuracy_score(y_test, y_pred)"
   ]
  },
  {
   "cell_type": "code",
   "execution_count": null,
   "id": "2d5c758e",
   "metadata": {},
   "outputs": [],
   "source": [
    "# Train Score\n",
    "train_score = KNN_model.score(x_train, y_train)\n",
    "print('Training Score: %0.4f'% train_score)"
   ]
  },
  {
   "cell_type": "markdown",
   "id": "aa9aa467",
   "metadata": {},
   "source": [
    "#### Testing the KNN on the Testing set"
   ]
  },
  {
   "cell_type": "code",
   "execution_count": null,
   "id": "356eec8b",
   "metadata": {},
   "outputs": [],
   "source": [
    "# Test score\n",
    "f1_KNN = f1_score(y_test, y_pred)\n",
    "precision_KNN = precision_score(y_test, y_pred)\n",
    "recall_KNN = recall_score(y_test, y_pred)\n",
    "Accuracy_KNN=accuracy_score(y_test, y_pred)\n",
    "print('Recall score: %0.4f'% recall_KNN)\n",
    "print('Precision score: %0.4f'% precision_KNN)\n",
    "print('F1-Score: %0.4f'% f1_KNN)\n",
    "print('Accuracy score: %0.4f'% Accuracy_KNN)"
   ]
  },
  {
   "cell_type": "code",
   "execution_count": null,
   "id": "bbf12f83",
   "metadata": {},
   "outputs": [],
   "source": [
    "# Test Predictions\n",
    "Visualize_confusion_matrix(y_test, y_pred)"
   ]
  },
  {
   "cell_type": "markdown",
   "id": "07f44c59",
   "metadata": {},
   "source": [
    "### 5.4 Decision Tree"
   ]
  },
  {
   "cell_type": "markdown",
   "id": "65cbde7d",
   "metadata": {},
   "source": [
    "#### Training Decision Tree Classification on Train set"
   ]
  },
  {
   "cell_type": "code",
   "execution_count": null,
   "id": "b4b1dfdd",
   "metadata": {},
   "outputs": [],
   "source": [
    "from sklearn.tree import DecisionTreeClassifier\n",
    "DTR_model = DecisionTreeClassifier(criterion = 'entropy', random_state = 0)\n",
    "DTR_model.fit(x_train, y_train)\n",
    "y_pred = DTR_model.predict(x_test)\n",
    "acc4 = accuracy_score(y_test, y_pred)"
   ]
  },
  {
   "cell_type": "code",
   "execution_count": null,
   "id": "a54df3ec",
   "metadata": {},
   "outputs": [],
   "source": [
    "# Train Score\n",
    "train_score = DTR_model.score(x_train, y_train)\n",
    "print('Training Score: %0.4f'% train_score)"
   ]
  },
  {
   "cell_type": "markdown",
   "id": "9eef8e00",
   "metadata": {},
   "source": [
    "#### Testing Decision Tree Classification on the Testing set"
   ]
  },
  {
   "cell_type": "code",
   "execution_count": null,
   "id": "4a67b45f",
   "metadata": {},
   "outputs": [],
   "source": [
    "# Test score\n",
    "f1_DT = f1_score(y_test, y_pred)\n",
    "precision_DT = precision_score(y_test, y_pred)\n",
    "recall_DT = recall_score(y_test, y_pred)\n",
    "Accuracy_DT=accuracy_score(y_test, y_pred)\n",
    "print('Recall score: %0.4f'% recall_DT)\n",
    "print('Precision score: %0.4f'% precision_DT)\n",
    "print('F1-Score: %0.4f'% f1_DT)\n",
    "print('Accuracy score: %0.4f'% Accuracy_DT)"
   ]
  },
  {
   "cell_type": "code",
   "execution_count": null,
   "id": "ba69c826",
   "metadata": {},
   "outputs": [],
   "source": [
    "# Test Predictions\n",
    "Visualize_confusion_matrix(y_test, y_pred)"
   ]
  },
  {
   "cell_type": "markdown",
   "id": "860ca499",
   "metadata": {},
   "source": [
    "### 5.5 Random Forest"
   ]
  },
  {
   "cell_type": "markdown",
   "id": "e4f09d01",
   "metadata": {},
   "source": [
    "#### Training the Random Forest Classification model on the Training set"
   ]
  },
  {
   "cell_type": "code",
   "execution_count": null,
   "id": "36a541f5",
   "metadata": {},
   "outputs": [],
   "source": [
    "from sklearn.ensemble import RandomForestClassifier\n",
    "RF_model = RandomForestClassifier(n_estimators = 10, criterion = 'entropy', random_state = 0)\n",
    "RF_model.fit(x_train, y_train)\n",
    "y_pred = RF_model.predict(x_test)\n",
    "acc5 = accuracy_score(y_test, y_pred)"
   ]
  },
  {
   "cell_type": "code",
   "execution_count": null,
   "id": "0f169d63",
   "metadata": {},
   "outputs": [],
   "source": [
    "# Train Score\n",
    "train_score = RF_model.score(x_train, y_train)\n",
    "print('Training Score: %0.4f'% train_score)"
   ]
  },
  {
   "cell_type": "markdown",
   "id": "04e86911",
   "metadata": {},
   "source": [
    "#### Testing the Random Forest Classification model on the Testing set"
   ]
  },
  {
   "cell_type": "code",
   "execution_count": null,
   "id": "bb46a4fa",
   "metadata": {},
   "outputs": [],
   "source": [
    "# Test score\n",
    "f1_RF = f1_score(y_test, y_pred)\n",
    "precision_RF = precision_score(y_test, y_pred)\n",
    "recall_RF = recall_score(y_test, y_pred)\n",
    "Accuracy_RF=accuracy_score(y_test, y_pred)\n",
    "print('Recall score: %0.4f'% recall_RF)\n",
    "print('Precision score: %0.4f'% precision_RF)\n",
    "print('F1-Score: %0.4f'% f1_RF)\n",
    "print('Accuracy score: %0.4f'% Accuracy_RF)"
   ]
  },
  {
   "cell_type": "code",
   "execution_count": null,
   "id": "79488693",
   "metadata": {},
   "outputs": [],
   "source": [
    "# Test Predictions\n",
    "Visualize_confusion_matrix(y_test, y_pred)"
   ]
  },
  {
   "cell_type": "markdown",
   "id": "41e8e493",
   "metadata": {},
   "source": [
    "### 5.6 SVM"
   ]
  },
  {
   "cell_type": "markdown",
   "id": "edc04bcf",
   "metadata": {},
   "source": [
    "#### Training the SVM on the Training set"
   ]
  },
  {
   "cell_type": "code",
   "execution_count": null,
   "id": "ae0c3e4b",
   "metadata": {},
   "outputs": [],
   "source": [
    "from sklearn.svm import SVC\n",
    "SVM_model = SVC(kernel = 'linear', random_state = 0, probability=True)\n",
    "SVM_model.fit(x_train, y_train)\n",
    "y_pred = SVM_model.predict(x_test)\n",
    "acc6 = accuracy_score(y_test, y_pred)"
   ]
  },
  {
   "cell_type": "code",
   "execution_count": null,
   "id": "1b1ad808",
   "metadata": {},
   "outputs": [],
   "source": [
    "# Train Score\n",
    "train_score = SVM_model.score(x_train, y_train)\n",
    "print('Training Score: %0.4f'% train_score)"
   ]
  },
  {
   "cell_type": "markdown",
   "id": "1aaaa13d",
   "metadata": {},
   "source": [
    "#### Testing the SVM model on the Testing set"
   ]
  },
  {
   "cell_type": "code",
   "execution_count": null,
   "id": "3bc4f0bc",
   "metadata": {},
   "outputs": [],
   "source": [
    "# Test score\n",
    "f1_SVM = f1_score(y_test, y_pred)\n",
    "precision_SVM = precision_score(y_test, y_pred)\n",
    "recall_SVM = recall_score(y_test, y_pred)\n",
    "Accuracy_SVM=accuracy_score(y_test, y_pred)\n",
    "print('Recall score: %0.4f'% recall_SVM)\n",
    "print('Precision score: %0.4f'% precision_SVM)\n",
    "print('F1-Score: %0.4f'% f1_SVM)\n",
    "print('Accuracy score: %0.4f'% Accuracy_SVM)"
   ]
  },
  {
   "cell_type": "code",
   "execution_count": null,
   "id": "c04c8a95",
   "metadata": {},
   "outputs": [],
   "source": [
    "# Test Predictions\n",
    "Visualize_confusion_matrix(y_test, y_pred)"
   ]
  },
  {
   "cell_type": "code",
   "execution_count": null,
   "id": "fec7199d",
   "metadata": {},
   "outputs": [],
   "source": [
    "pip install XGBoost"
   ]
  },
  {
   "cell_type": "markdown",
   "id": "0213bc3f",
   "metadata": {},
   "source": [
    "### 5.7 XGBoost"
   ]
  },
  {
   "cell_type": "markdown",
   "id": "ad646120",
   "metadata": {},
   "source": [
    "#### Training the XGBoost model on the Training set"
   ]
  },
  {
   "cell_type": "code",
   "execution_count": null,
   "id": "7a39d065",
   "metadata": {},
   "outputs": [],
   "source": [
    "from xgboost import XGBClassifier\n",
    "XGB_model = XGBClassifier()\n",
    "XGB_model.fit(x_train, y_train)\n",
    "y_pred = XGB_model.predict(x_test)\n",
    "acc7 = accuracy_score(y_test, y_pred)"
   ]
  },
  {
   "cell_type": "code",
   "execution_count": null,
   "id": "a22a64a4",
   "metadata": {},
   "outputs": [],
   "source": [
    "# Train Score\n",
    "train_score = XGB_model.score(x_train, y_train)\n",
    "print('Training Score: %0.4f'% train_score)"
   ]
  },
  {
   "cell_type": "markdown",
   "id": "f790f426",
   "metadata": {},
   "source": [
    "#### Testing the XGBoost model on the Testing set"
   ]
  },
  {
   "cell_type": "code",
   "execution_count": null,
   "id": "96f79896",
   "metadata": {},
   "outputs": [],
   "source": [
    "# Test score\n",
    "f1_XGB = f1_score(y_test, y_pred)\n",
    "precision_XGB = precision_score(y_test, y_pred)\n",
    "recall_XGB = recall_score(y_test, y_pred)\n",
    "Accuracy_XGB=accuracy_score(y_test, y_pred)\n",
    "print('Recall score: %0.4f'% recall_XGB)\n",
    "print('Precision score: %0.4f'% precision_XGB)\n",
    "print('F1-Score: %0.4f'% f1_XGB)\n",
    "print('Accuracy score: %0.4f'% Accuracy_XGB)"
   ]
  },
  {
   "cell_type": "code",
   "execution_count": null,
   "id": "68a9d452",
   "metadata": {},
   "outputs": [],
   "source": [
    "# Test Predictions\n",
    "Visualize_confusion_matrix(y_test, y_pred)"
   ]
  },
  {
   "cell_type": "code",
   "execution_count": null,
   "id": "e8feda96",
   "metadata": {},
   "outputs": [],
   "source": [
    "pip install catboost"
   ]
  },
  {
   "cell_type": "markdown",
   "id": "a3de1da8",
   "metadata": {},
   "source": [
    "### 5.8 CatBoost"
   ]
  },
  {
   "cell_type": "markdown",
   "id": "07ecb4f2",
   "metadata": {},
   "source": [
    "#### Training CatBoost on the Training set"
   ]
  },
  {
   "cell_type": "code",
   "execution_count": null,
   "id": "7a16affd",
   "metadata": {},
   "outputs": [],
   "source": [
    "from catboost import CatBoostClassifier\n",
    "catboost_model = CatBoostClassifier()\n",
    "catboost_model.fit(x_train, y_train)\n",
    "y_pred = catboost_model.predict(x_test)\n",
    "acc8 = accuracy_score(y_test, y_pred)"
   ]
  },
  {
   "cell_type": "code",
   "execution_count": null,
   "id": "c965d6d7",
   "metadata": {},
   "outputs": [],
   "source": [
    "# Train Score\n",
    "train_score = catboost_model.score(x_train, y_train)\n",
    "print('Training Score: %0.4f'% train_score)"
   ]
  },
  {
   "cell_type": "markdown",
   "id": "a55da8f1",
   "metadata": {},
   "source": [
    "#### Testing the CatBoost model on the Testing set"
   ]
  },
  {
   "cell_type": "code",
   "execution_count": null,
   "id": "f4172d53",
   "metadata": {},
   "outputs": [],
   "source": [
    "# Test score\n",
    "f1_Cat = f1_score(y_test, y_pred)\n",
    "precision_Cat = precision_score(y_test, y_pred)\n",
    "recall_Cat = recall_score(y_test, y_pred)\n",
    "Accuracy_Cat=accuracy_score(y_test, y_pred)\n",
    "print('Recall score: %0.4f'% recall_Cat)\n",
    "print('Precision score: %0.4f'% precision_Cat)\n",
    "print('F1-Score: %0.4f'% f1_Cat)\n",
    "print('Accuracy score: %0.4f'% Accuracy_Cat)"
   ]
  },
  {
   "cell_type": "code",
   "execution_count": null,
   "id": "b3b5a82b",
   "metadata": {},
   "outputs": [],
   "source": [
    "# Test Predictions\n",
    "Visualize_confusion_matrix(y_test, y_pred)"
   ]
  },
  {
   "cell_type": "markdown",
   "id": "e8efba83",
   "metadata": {},
   "source": [
    "### 5.9 ANN"
   ]
  },
  {
   "cell_type": "code",
   "execution_count": null,
   "id": "e33072f8",
   "metadata": {},
   "outputs": [],
   "source": [
    "from tensorflow import keras\n",
    "from sklearn.metrics import classification_report, confusion_matrix\n",
    "from tensorflow.keras.models import Sequential\n",
    "from tensorflow.keras.layers import Dense, Activation,Dropout\n",
    "from tensorflow.keras.callbacks import EarlyStopping\n"
   ]
  },
  {
   "cell_type": "code",
   "execution_count": null,
   "id": "dcfd0e9d",
   "metadata": {},
   "outputs": [],
   "source": [
    "ANN_model =keras.Sequential([\n",
    "    keras.layers.Dense(units=64, activation='relu', input_dim=6),  # Update input_dim to match your number of features\n",
    "    keras.layers.Dense(units=32, activation='relu'),\n",
    "    keras.layers.Dense(units=1, activation='sigmoid')\n",
    "]) \n",
    "\n",
    "ANN_model.compile(\n",
    "    optimizer='adam',\n",
    "    metrics=['accuracy'],\n",
    "    loss='binary_crossentropy'\n",
    ")"
   ]
  },
  {
   "cell_type": "code",
   "execution_count": null,
   "id": "68bd7326",
   "metadata": {},
   "outputs": [],
   "source": [
    "ANN_model.fit(x_train, y_train, epochs=50)"
   ]
  },
  {
   "cell_type": "markdown",
   "id": "70a3c4fb",
   "metadata": {},
   "source": [
    "## Predictions"
   ]
  },
  {
   "cell_type": "code",
   "execution_count": null,
   "id": "420941a7",
   "metadata": {},
   "outputs": [],
   "source": [
    "def predict(model,x):\n",
    "    pred  = ANN_model.predict(x)\n",
    "    pred[pred >= 0.5] = 1\n",
    "    pred[pred < 0.5] = 0\n",
    "    return pred\n",
    "\n",
    "def predict_graph(y_true,y_pred,title):\n",
    "    cm = confusion_matrix(y_true,y_pred)\n",
    "    plt.figure(figsize=(7,5))\n",
    "#     cmap = sns.color_palette(\"viridis\", as_cmap=True)\n",
    "    sns.heatmap(cm,annot=True,fmt='g',cmap='Oranges',\n",
    "                xticklabels=['No Bankruptcy','Bankruptcy'], yticklabels=['No Bankruptcy','Bankruptcy'])\n",
    "    plt.title(title)\n",
    "    plt.show()\n",
    "    \n",
    "    print(\"\\n\")\n",
    "    print(\"Classification Report:\")\n",
    "    print(classification_report(y_true,y_pred))"
   ]
  },
  {
   "cell_type": "markdown",
   "id": "a8c3e3d5",
   "metadata": {},
   "source": [
    "### Train Predictions"
   ]
  },
  {
   "cell_type": "code",
   "execution_count": null,
   "id": "f45d0dfa",
   "metadata": {},
   "outputs": [],
   "source": [
    "y_train_pred = predict(ANN_model, x_train)\n",
    "predict_graph(y_train, y_train_pred, 'Train Data Predictions')"
   ]
  },
  {
   "cell_type": "markdown",
   "id": "c698765b",
   "metadata": {},
   "source": [
    "### Test Predictions"
   ]
  },
  {
   "cell_type": "code",
   "execution_count": null,
   "id": "9ec4f18f",
   "metadata": {},
   "outputs": [],
   "source": [
    "y_pred = predict(ANN_model, x_test)\n",
    "acc9 = accuracy_score(y_test, y_pred)"
   ]
  },
  {
   "cell_type": "code",
   "execution_count": null,
   "id": "cdc10421",
   "metadata": {},
   "outputs": [],
   "source": [
    "# Test score\n",
    "f1_ANN = f1_score(y_test, y_pred)\n",
    "precision_ANN = precision_score(y_test, y_pred)\n",
    "recall_ANN = recall_score(y_test, y_pred)\n",
    "Accuracy_ANN=accuracy_score(y_test, y_pred)\n",
    "print('Recall score: %0.4f'% recall_ANN)\n",
    "print('Precision score: %0.4f'% precision_ANN)\n",
    "print('F1-Score: %0.4f'% f1_ANN)\n",
    "print('Accuracy score: %0.4f'% Accuracy_ANN)"
   ]
  },
  {
   "cell_type": "code",
   "execution_count": null,
   "id": "5e7ae957",
   "metadata": {},
   "outputs": [],
   "source": [
    "predict_graph(y_test, y_pred, 'Test Data Predictions')"
   ]
  },
  {
   "cell_type": "markdown",
   "id": "3311461c",
   "metadata": {},
   "source": [
    "# 6. RESULT"
   ]
  },
  {
   "cell_type": "markdown",
   "id": "dac94e4d",
   "metadata": {},
   "source": [
    "### Compare the accuracy of the models on the training set"
   ]
  },
  {
   "cell_type": "code",
   "execution_count": null,
   "id": "89a556e1",
   "metadata": {},
   "outputs": [],
   "source": [
    "mylist=[]\n",
    "mylist2=[]\n",
    "\n",
    "mylist.append(acc1)\n",
    "mylist2.append(\"Logistic Regression\")\n",
    "mylist.append(acc2)\n",
    "mylist2.append(\"Naive Bayes\")\n",
    "mylist.append(acc3)\n",
    "mylist2.append(\"KNN\")\n",
    "mylist.append(acc4)\n",
    "mylist2.append(\"Decision Tree\")\n",
    "mylist.append(acc5)\n",
    "mylist2.append(\"Random Forest\")\n",
    "mylist.append(acc6)\n",
    "mylist2.append(\"SVM\")\n",
    "mylist.append(acc7)\n",
    "mylist2.append(\"XG Boost\")\n",
    "mylist.append(acc8)\n",
    "mylist2.append(\"Cat Boost\")\n",
    "mylist.append(acc9)\n",
    "mylist2.append(\"ANN\")\n",
    "\n",
    "plt.figure(figsize=(22, 10))\n",
    "sns.set_style(\"darkgrid\")\n",
    "ax = sns.barplot(x = mylist2, y = mylist, palette = \"magma\", saturation =1.5)\n",
    "plt.xlabel(\"Classification Models\", fontsize = 20 )\n",
    "plt.ylabel(\"Accuracy\", fontsize = 20)\n",
    "plt.title(\"Accuracy of different Classification Models\", fontsize = 20)\n",
    "plt.xticks(fontsize = 11, horizontalalignment = 'center', rotation = 0)\n",
    "plt.yticks(fontsize = 13)\n",
    "for p in ax.patches:\n",
    "    width, height = p.get_width(), p.get_height()\n",
    "    x, y = p.get_xy() \n",
    "    ax.annotate(f'{height:.2%}', (x + width/2, y + height*1.02), ha='center', fontsize = 'x-large')\n",
    "\n",
    "    # Add Text watermark\n",
    "    plt.text(7.5, -0.1, 'Make by Lucas', fontsize = 15,\n",
    "             color ='#034235', ha ='left', va ='bottom',\n",
    "             alpha = 0.7)\n",
    "       \n",
    "plt.show();"
   ]
  },
  {
   "cell_type": "markdown",
   "id": "ca1bbf30",
   "metadata": {},
   "source": [
    "## ROC Curve and Area Under the Curve"
   ]
  },
  {
   "cell_type": "code",
   "execution_count": null,
   "id": "6f463887",
   "metadata": {},
   "outputs": [],
   "source": [
    "from sklearn.metrics import roc_curve, auc"
   ]
  },
  {
   "cell_type": "markdown",
   "id": "3a6290e9",
   "metadata": {},
   "source": [
    "### ROC - Logistic Regression"
   ]
  },
  {
   "cell_type": "code",
   "execution_count": null,
   "id": "31fe2835",
   "metadata": {},
   "outputs": [],
   "source": [
    "y_pred_logistic = LR_model.predict_proba(x_test)[:,1]\n",
    "logistic_fpr, logistic_tpr, threshold = roc_curve(y_test, y_pred_logistic)\n",
    "auc_logistic = auc(logistic_fpr, logistic_tpr)"
   ]
  },
  {
   "cell_type": "markdown",
   "id": "0d36caa4",
   "metadata": {},
   "source": [
    "### ROC - Naive Bayes"
   ]
  },
  {
   "cell_type": "code",
   "execution_count": null,
   "id": "37a76ccb",
   "metadata": {},
   "outputs": [],
   "source": [
    "y_pred_nb = NB_model.predict_proba(x_test)[:,1]\n",
    "nb_fpr, nb_tpr, threshold = roc_curve(y_test, y_pred_nb)\n",
    "auc_nb = auc(nb_fpr, nb_tpr)"
   ]
  },
  {
   "cell_type": "markdown",
   "id": "184ab793",
   "metadata": {},
   "source": [
    "### ROC - KNN"
   ]
  },
  {
   "cell_type": "code",
   "execution_count": null,
   "id": "d1bff163",
   "metadata": {},
   "outputs": [],
   "source": [
    "y_pred_knn = KNN_model.predict_proba(x_test)[:,1]\n",
    "knn_fpr, knn_tpr, threshold = roc_curve(y_test, y_pred_knn)\n",
    "auc_knn = auc(knn_fpr, knn_tpr)"
   ]
  },
  {
   "cell_type": "markdown",
   "id": "2a19b038",
   "metadata": {},
   "source": [
    "### ROC - Decision Tree"
   ]
  },
  {
   "cell_type": "code",
   "execution_count": null,
   "id": "6866f335",
   "metadata": {},
   "outputs": [],
   "source": [
    "y_pred_dtr = DTR_model.predict_proba(x_test)[:,1]\n",
    "dtr_fpr, dtr_tpr, threshold = roc_curve(y_test, y_pred_dtr)\n",
    "auc_dtr = auc(dtr_fpr, dtr_tpr)"
   ]
  },
  {
   "cell_type": "markdown",
   "id": "6a486fe9",
   "metadata": {},
   "source": [
    "### ROC - Random Forest"
   ]
  },
  {
   "cell_type": "code",
   "execution_count": null,
   "id": "522a042d",
   "metadata": {},
   "outputs": [],
   "source": [
    "y_pred_rfc = RF_model.predict_proba(x_test)[:,1]\n",
    "rfc_fpr, rfc_tpr, threshold = roc_curve(y_test, y_pred_rfc)\n",
    "auc_rfc = auc(rfc_fpr, rfc_tpr)"
   ]
  },
  {
   "cell_type": "markdown",
   "id": "891ff9de",
   "metadata": {},
   "source": [
    "### ROC - SVM"
   ]
  },
  {
   "cell_type": "code",
   "execution_count": null,
   "id": "9737e6fd",
   "metadata": {},
   "outputs": [],
   "source": [
    "y_pred_svm = SVM_model.predict_proba(x_test)[:,1]\n",
    "svm_fpr, svm_tpr, threshold = roc_curve(y_test, y_pred_svm)\n",
    "auc_svm = auc(svm_fpr, svm_tpr)"
   ]
  },
  {
   "cell_type": "markdown",
   "id": "6c9abd0c",
   "metadata": {},
   "source": [
    "### ROC - XG Boost"
   ]
  },
  {
   "cell_type": "code",
   "execution_count": null,
   "id": "84268106",
   "metadata": {},
   "outputs": [],
   "source": [
    "y_pred_xgb = XGB_model.predict_proba(x_test)[:,1]\n",
    "xgb_fpr, xgb_tpr, threshold = roc_curve(y_test, y_pred_xgb)\n",
    "auc_xgb = auc(xgb_fpr, xgb_tpr)"
   ]
  },
  {
   "cell_type": "markdown",
   "id": "a7f7ff99",
   "metadata": {},
   "source": [
    "### ROC - CatBoost"
   ]
  },
  {
   "cell_type": "code",
   "execution_count": null,
   "id": "6f4b7cb6",
   "metadata": {},
   "outputs": [],
   "source": [
    "y_pred_catboost = catboost_model.predict_proba(x_test)[:,1]\n",
    "catboost_fpr, catboost_tpr, threshold = roc_curve(y_test, y_pred_catboost)\n",
    "auc_catboost = auc(catboost_fpr, catboost_tpr)"
   ]
  },
  {
   "cell_type": "markdown",
   "id": "053c3cea",
   "metadata": {},
   "source": [
    "### ROC - ANN"
   ]
  },
  {
   "cell_type": "code",
   "execution_count": null,
   "id": "02085c64",
   "metadata": {},
   "outputs": [],
   "source": [
    "y_pred_ann = ANN_model.predict(x_test)\n",
    "ann_fpr, ann_tpr, threshold = roc_curve(y_test, y_pred_ann)\n",
    "auc_ann = auc(ann_fpr, ann_tpr)"
   ]
  },
  {
   "cell_type": "markdown",
   "id": "c5470c6b",
   "metadata": {},
   "source": [
    "### ROC - Plotting Graph"
   ]
  },
  {
   "cell_type": "code",
   "execution_count": null,
   "id": "e76c13b0",
   "metadata": {},
   "outputs": [],
   "source": [
    "plt.figure(figsize=(8, 8), dpi=100)\n",
    "plt.plot([0, 1], [0, 1], 'k--')\n",
    "# Logistic Regression\n",
    "plt.plot(logistic_fpr, logistic_tpr, label='Logistic (auc = %0.3f)' % auc_logistic)\n",
    "# Naive Bayes\n",
    "plt.plot(nb_fpr, nb_tpr, label='Naive Bayes (auc = %0.3f)' % auc_nb)\n",
    "# KNN\n",
    "plt.plot(knn_fpr, knn_tpr, label='KNN (auc = %0.3f)' % auc_knn)\n",
    "# Decision Tree\n",
    "plt.plot(dtr_fpr, dtr_tpr, label='Decision Tree (auc = %0.3f)' % auc_dtr)\n",
    "# Random Forest\n",
    "plt.plot(rfc_fpr, rfc_tpr, label='Random Forest (auc = %0.3f)' % auc_rfc)\n",
    "# SVM\n",
    "plt.plot(svm_fpr, svm_tpr, label='SVM (auc = %0.3f)' % auc_svm)\n",
    "# XGBoost\n",
    "plt.plot(xgb_fpr, xgb_tpr, label='XG Boost (auc = %0.3f)' % auc_xgb)\n",
    "# CatBoost\n",
    "plt.plot(catboost_fpr, catboost_tpr, linestyle='-', label='CatBoost (auc = %0.3f)' % auc_catboost)\n",
    "# ANN\n",
    "plt.plot(ann_fpr, ann_tpr, label='ANN (auc = %0.3f)' % auc_ann)\n",
    "\n",
    "plt.xlabel('False Positive Rate')\n",
    "plt.ylabel('True Positive Rate')\n",
    "\n",
    "plt.legend(loc='best')\n",
    "plt.show();"
   ]
  },
  {
   "cell_type": "code",
   "execution_count": null,
   "id": "c5d4fbe1",
   "metadata": {},
   "outputs": [],
   "source": [
    "# Storing results in a data frame\n",
    "\n",
    "d1 = {'Models':['Logistic Regression','Naive Bayes','KNN','Decision Tree','Random Forest',\n",
    "                'SVM','XG Boost','CatBoost','ANN'], \n",
    "      'Accuracy':[Accuracy_LR, Accuracy_NB, Accuracy_KNN, Accuracy_DT, Accuracy_RF, \n",
    "             Accuracy_SVM, Accuracy_XGB, Accuracy_Cat, Accuracy_ANN],\n",
    "     'F1_Score':[f1_LR, f1_NB, f1_KNN, f1_DT, f1_RF, f1_SVM, f1_XGB, f1_Cat, f1_ANN],\n",
    "     'Precision':[precision_LR, precision_NB, precision_KNN, precision_DT, precision_RF, precision_SVM, precision_XGB, \n",
    "                  precision_Cat, precision_ANN],\n",
    "     'Recall':[recall_LR, recall_NB, recall_KNN, recall_DT, recall_RF, recall_SVM, recall_XGB, recall_Cat, recall_ANN]}\n",
    "results_df = pd.DataFrame(d1)\n",
    "results_df.sort_values(by=['Accuracy'], ascending=False)"
   ]
  },
  {
   "cell_type": "code",
   "execution_count": null,
   "id": "703a5802",
   "metadata": {},
   "outputs": [],
   "source": [
    "import pickle\n",
    "pickle_out = open(\"LR_model.pkl\",\"wb\")\n",
    "pickle.dump(SVM_model, pickle_out)\n",
    "pickle_out.close()"
   ]
  },
  {
   "cell_type": "code",
   "execution_count": null,
   "id": "5451655e",
   "metadata": {},
   "outputs": [],
   "source": []
  },
  {
   "cell_type": "code",
   "execution_count": null,
   "id": "cc676481",
   "metadata": {},
   "outputs": [],
   "source": []
  }
 ],
 "metadata": {
  "kernelspec": {
   "display_name": "Python 3 (ipykernel)",
   "language": "python",
   "name": "python3"
  },
  "language_info": {
   "codemirror_mode": {
    "name": "ipython",
    "version": 3
   },
   "file_extension": ".py",
   "mimetype": "text/x-python",
   "name": "python",
   "nbconvert_exporter": "python",
   "pygments_lexer": "ipython3",
   "version": "3.9.13"
  }
 },
 "nbformat": 4,
 "nbformat_minor": 5
}
